{
 "cells": [
  {
   "cell_type": "code",
   "execution_count": 1,
   "id": "ded50695",
   "metadata": {
    "executionInfo": {
     "elapsed": 6,
     "status": "ok",
     "timestamp": 1622009577091,
     "user": {
      "displayName": "BRITNEY ZHAO",
      "photoUrl": "",
      "userId": "17497345006570229442"
     },
     "user_tz": 420
    },
    "id": "ded50695"
   },
   "outputs": [],
   "source": [
    "import pandas as pd\n",
    "import numpy as np\n",
    "from numpy import dot\n",
    "from numpy.linalg import norm"
   ]
  },
  {
   "cell_type": "code",
   "execution_count": 2,
   "id": "de2a1743",
   "metadata": {
    "executionInfo": {
     "elapsed": 5,
     "status": "ok",
     "timestamp": 1622009577092,
     "user": {
      "displayName": "BRITNEY ZHAO",
      "photoUrl": "",
      "userId": "17497345006570229442"
     },
     "user_tz": 420
    },
    "id": "de2a1743"
   },
   "outputs": [],
   "source": [
    "url = \"https://raw.githubusercontent.com/dwightvj/PIC16B-Project/main/dogs.csv\""
   ]
  },
  {
   "cell_type": "code",
   "execution_count": 3,
   "id": "ed2524be",
   "metadata": {
    "executionInfo": {
     "elapsed": 494,
     "status": "ok",
     "timestamp": 1622017502422,
     "user": {
      "displayName": "BRITNEY ZHAO",
      "photoUrl": "",
      "userId": "17497345006570229442"
     },
     "user_tz": 420
    },
    "id": "ed2524be"
   },
   "outputs": [],
   "source": [
    "df = pd.read_csv(url)\n",
    "df = df.fillna(0)"
   ]
  },
  {
   "cell_type": "code",
   "execution_count": 4,
   "id": "f154c3e6",
   "metadata": {
    "colab": {
     "base_uri": "https://localhost:8080/",
     "height": 548
    },
    "executionInfo": {
     "elapsed": 178,
     "status": "ok",
     "timestamp": 1622017506581,
     "user": {
      "displayName": "BRITNEY ZHAO",
      "photoUrl": "",
      "userId": "17497345006570229442"
     },
     "user_tz": 420
    },
    "id": "f154c3e6",
    "outputId": "40d642e4-346b-4ad1-808f-ef4e7fee7ae2"
   },
   "outputs": [
    {
     "data": {
      "text/html": [
       "<div>\n",
       "<style scoped>\n",
       "    .dataframe tbody tr th:only-of-type {\n",
       "        vertical-align: middle;\n",
       "    }\n",
       "\n",
       "    .dataframe tbody tr th {\n",
       "        vertical-align: top;\n",
       "    }\n",
       "\n",
       "    .dataframe thead th {\n",
       "        text-align: right;\n",
       "    }\n",
       "</style>\n",
       "<table border=\"1\" class=\"dataframe\">\n",
       "  <thead>\n",
       "    <tr style=\"text-align: right;\">\n",
       "      <th></th>\n",
       "      <th>id</th>\n",
       "      <th>name</th>\n",
       "      <th>size</th>\n",
       "      <th>kidFriendly</th>\n",
       "      <th>dogFriendly</th>\n",
       "      <th>lowShedding</th>\n",
       "      <th>easyToGroom</th>\n",
       "      <th>highEnergy</th>\n",
       "      <th>goodHealth</th>\n",
       "      <th>lowBarking</th>\n",
       "      <th>intelligence</th>\n",
       "      <th>easyToTrain</th>\n",
       "      <th>toleratesHot</th>\n",
       "      <th>toleratesCold</th>\n",
       "    </tr>\n",
       "  </thead>\n",
       "  <tbody>\n",
       "    <tr>\n",
       "      <th>0</th>\n",
       "      <td>affenpinscher</td>\n",
       "      <td>Affenpinscher</td>\n",
       "      <td>1</td>\n",
       "      <td>1</td>\n",
       "      <td>1</td>\n",
       "      <td>5</td>\n",
       "      <td>3</td>\n",
       "      <td>4</td>\n",
       "      <td>4</td>\n",
       "      <td>4.0</td>\n",
       "      <td>4</td>\n",
       "      <td>2</td>\n",
       "      <td>3</td>\n",
       "      <td>3</td>\n",
       "    </tr>\n",
       "    <tr>\n",
       "      <th>1</th>\n",
       "      <td>afghan-hound</td>\n",
       "      <td>Afghan Hound</td>\n",
       "      <td>4</td>\n",
       "      <td>5</td>\n",
       "      <td>5</td>\n",
       "      <td>2</td>\n",
       "      <td>1</td>\n",
       "      <td>5</td>\n",
       "      <td>3</td>\n",
       "      <td>4.0</td>\n",
       "      <td>4</td>\n",
       "      <td>1</td>\n",
       "      <td>5</td>\n",
       "      <td>5</td>\n",
       "    </tr>\n",
       "    <tr>\n",
       "      <th>2</th>\n",
       "      <td>airedale-terrier</td>\n",
       "      <td>Airedale Terrier</td>\n",
       "      <td>3</td>\n",
       "      <td>4</td>\n",
       "      <td>4</td>\n",
       "      <td>4</td>\n",
       "      <td>2</td>\n",
       "      <td>5</td>\n",
       "      <td>3</td>\n",
       "      <td>2.0</td>\n",
       "      <td>5</td>\n",
       "      <td>4</td>\n",
       "      <td>3</td>\n",
       "      <td>3</td>\n",
       "    </tr>\n",
       "    <tr>\n",
       "      <th>3</th>\n",
       "      <td>akita</td>\n",
       "      <td>Akita</td>\n",
       "      <td>4</td>\n",
       "      <td>1</td>\n",
       "      <td>1</td>\n",
       "      <td>1</td>\n",
       "      <td>1</td>\n",
       "      <td>4</td>\n",
       "      <td>4</td>\n",
       "      <td>1.0</td>\n",
       "      <td>3</td>\n",
       "      <td>2</td>\n",
       "      <td>2</td>\n",
       "      <td>5</td>\n",
       "    </tr>\n",
       "    <tr>\n",
       "      <th>4</th>\n",
       "      <td>alaskan-malamute</td>\n",
       "      <td>Alaskan Malamute</td>\n",
       "      <td>4</td>\n",
       "      <td>3</td>\n",
       "      <td>3</td>\n",
       "      <td>1</td>\n",
       "      <td>1</td>\n",
       "      <td>5</td>\n",
       "      <td>4</td>\n",
       "      <td>1.0</td>\n",
       "      <td>4</td>\n",
       "      <td>4</td>\n",
       "      <td>2</td>\n",
       "      <td>5</td>\n",
       "    </tr>\n",
       "    <tr>\n",
       "      <th>...</th>\n",
       "      <td>...</td>\n",
       "      <td>...</td>\n",
       "      <td>...</td>\n",
       "      <td>...</td>\n",
       "      <td>...</td>\n",
       "      <td>...</td>\n",
       "      <td>...</td>\n",
       "      <td>...</td>\n",
       "      <td>...</td>\n",
       "      <td>...</td>\n",
       "      <td>...</td>\n",
       "      <td>...</td>\n",
       "      <td>...</td>\n",
       "      <td>...</td>\n",
       "    </tr>\n",
       "    <tr>\n",
       "      <th>194</th>\n",
       "      <td>whippet</td>\n",
       "      <td>Whippet</td>\n",
       "      <td>3</td>\n",
       "      <td>5</td>\n",
       "      <td>5</td>\n",
       "      <td>4</td>\n",
       "      <td>5</td>\n",
       "      <td>5</td>\n",
       "      <td>4</td>\n",
       "      <td>5.0</td>\n",
       "      <td>4</td>\n",
       "      <td>4</td>\n",
       "      <td>4</td>\n",
       "      <td>1</td>\n",
       "    </tr>\n",
       "    <tr>\n",
       "      <th>195</th>\n",
       "      <td>wirehaired-pointing-griffon</td>\n",
       "      <td>Wirehaired Pointing Griffon</td>\n",
       "      <td>3</td>\n",
       "      <td>5</td>\n",
       "      <td>5</td>\n",
       "      <td>5</td>\n",
       "      <td>3</td>\n",
       "      <td>5</td>\n",
       "      <td>4</td>\n",
       "      <td>2.0</td>\n",
       "      <td>5</td>\n",
       "      <td>5</td>\n",
       "      <td>3</td>\n",
       "      <td>4</td>\n",
       "    </tr>\n",
       "    <tr>\n",
       "      <th>196</th>\n",
       "      <td>xoloitzuintli</td>\n",
       "      <td>Xoloitzcuintli</td>\n",
       "      <td>3</td>\n",
       "      <td>3</td>\n",
       "      <td>3</td>\n",
       "      <td>1</td>\n",
       "      <td>5</td>\n",
       "      <td>3</td>\n",
       "      <td>5</td>\n",
       "      <td>1.0</td>\n",
       "      <td>5</td>\n",
       "      <td>3</td>\n",
       "      <td>3</td>\n",
       "      <td>3</td>\n",
       "    </tr>\n",
       "    <tr>\n",
       "      <th>197</th>\n",
       "      <td>yorkipoo</td>\n",
       "      <td>Yorkipoo</td>\n",
       "      <td>1</td>\n",
       "      <td>4</td>\n",
       "      <td>4</td>\n",
       "      <td>5</td>\n",
       "      <td>4</td>\n",
       "      <td>5</td>\n",
       "      <td>3</td>\n",
       "      <td>1.0</td>\n",
       "      <td>4</td>\n",
       "      <td>4</td>\n",
       "      <td>3</td>\n",
       "      <td>2</td>\n",
       "    </tr>\n",
       "    <tr>\n",
       "      <th>198</th>\n",
       "      <td>yorkshire-terrier</td>\n",
       "      <td>Yorkshire Terrier</td>\n",
       "      <td>1</td>\n",
       "      <td>2</td>\n",
       "      <td>2</td>\n",
       "      <td>4</td>\n",
       "      <td>1</td>\n",
       "      <td>5</td>\n",
       "      <td>4</td>\n",
       "      <td>3.0</td>\n",
       "      <td>3</td>\n",
       "      <td>3</td>\n",
       "      <td>2</td>\n",
       "      <td>2</td>\n",
       "    </tr>\n",
       "  </tbody>\n",
       "</table>\n",
       "<p>199 rows × 14 columns</p>\n",
       "</div>"
      ],
      "text/plain": [
       "                              id                         name  size  \\\n",
       "0                  affenpinscher                Affenpinscher     1   \n",
       "1                   afghan-hound                 Afghan Hound     4   \n",
       "2               airedale-terrier             Airedale Terrier     3   \n",
       "3                          akita                        Akita     4   \n",
       "4               alaskan-malamute             Alaskan Malamute     4   \n",
       "..                           ...                          ...   ...   \n",
       "194                      whippet                      Whippet     3   \n",
       "195  wirehaired-pointing-griffon  Wirehaired Pointing Griffon     3   \n",
       "196                xoloitzuintli               Xoloitzcuintli     3   \n",
       "197                     yorkipoo                     Yorkipoo     1   \n",
       "198            yorkshire-terrier            Yorkshire Terrier     1   \n",
       "\n",
       "     kidFriendly  dogFriendly  lowShedding  easyToGroom  highEnergy  \\\n",
       "0              1            1            5            3           4   \n",
       "1              5            5            2            1           5   \n",
       "2              4            4            4            2           5   \n",
       "3              1            1            1            1           4   \n",
       "4              3            3            1            1           5   \n",
       "..           ...          ...          ...          ...         ...   \n",
       "194            5            5            4            5           5   \n",
       "195            5            5            5            3           5   \n",
       "196            3            3            1            5           3   \n",
       "197            4            4            5            4           5   \n",
       "198            2            2            4            1           5   \n",
       "\n",
       "     goodHealth  lowBarking  intelligence  easyToTrain  toleratesHot  \\\n",
       "0             4         4.0             4            2             3   \n",
       "1             3         4.0             4            1             5   \n",
       "2             3         2.0             5            4             3   \n",
       "3             4         1.0             3            2             2   \n",
       "4             4         1.0             4            4             2   \n",
       "..          ...         ...           ...          ...           ...   \n",
       "194           4         5.0             4            4             4   \n",
       "195           4         2.0             5            5             3   \n",
       "196           5         1.0             5            3             3   \n",
       "197           3         1.0             4            4             3   \n",
       "198           4         3.0             3            3             2   \n",
       "\n",
       "     toleratesCold  \n",
       "0                3  \n",
       "1                5  \n",
       "2                3  \n",
       "3                5  \n",
       "4                5  \n",
       "..             ...  \n",
       "194              1  \n",
       "195              4  \n",
       "196              3  \n",
       "197              2  \n",
       "198              2  \n",
       "\n",
       "[199 rows x 14 columns]"
      ]
     },
     "execution_count": 4,
     "metadata": {},
     "output_type": "execute_result"
    }
   ],
   "source": [
    "df"
   ]
  },
  {
   "cell_type": "code",
   "execution_count": 5,
   "id": "e978248e",
   "metadata": {
    "colab": {
     "base_uri": "https://localhost:8080/"
    },
    "executionInfo": {
     "elapsed": 135,
     "status": "ok",
     "timestamp": 1622017515495,
     "user": {
      "displayName": "BRITNEY ZHAO",
      "photoUrl": "",
      "userId": "17497345006570229442"
     },
     "user_tz": 420
    },
    "id": "e978248e",
    "outputId": "70234fc3-21f9-41c6-880c-c494bda4de30"
   },
   "outputs": [
    {
     "name": "stdout",
     "output_type": "stream",
     "text": [
      "size 1.3441579758086917\n",
      "kidFriendly 1.0830534582460039\n",
      "dogFriendly 1.0830534582460039\n",
      "lowShedding 1.5943536779374259\n",
      "easyToGroom 2.0993409257341984\n",
      "highEnergy 0.9224514532461303\n",
      "goodHealth 1.148455847074569\n",
      "lowBarking 1.5708694224893311\n",
      "intelligence 0.5563495871316381\n",
      "easyToTrain 1.3139062144895333\n",
      "toleratesHot 0.881896921794904\n",
      "toleratesCold 1.4688517966718015\n"
     ]
    }
   ],
   "source": [
    "# obtain variance for each column\n",
    "colvar = []\n",
    "for column in range(2, 14):\n",
    "    colvar.append(np.var(df.iloc[:, column]))\n",
    "    print(df.columns[column], np.var(df.iloc[:, column]))"
   ]
  },
  {
   "cell_type": "code",
   "execution_count": 6,
   "id": "d751d1fd",
   "metadata": {
    "executionInfo": {
     "elapsed": 191,
     "status": "ok",
     "timestamp": 1622017517415,
     "user": {
      "displayName": "BRITNEY ZHAO",
      "photoUrl": "",
      "userId": "17497345006570229442"
     },
     "user_tz": 420
    },
    "id": "d751d1fd"
   },
   "outputs": [],
   "source": [
    "# only choose top 6 columns of greatest variance, drop the rest\n",
    "df = df.drop([\"id\", \"dogFriendly\", \"kidFriendly\", \"highEnergy\",\n",
    "        \"intelligence\", \"toleratesHot\", \"toleratesCold\"], axis = 1)"
   ]
  },
  {
   "cell_type": "code",
   "execution_count": 7,
   "id": "10a3fb2d",
   "metadata": {
    "colab": {
     "base_uri": "https://localhost:8080/",
     "height": 424
    },
    "executionInfo": {
     "elapsed": 206,
     "status": "ok",
     "timestamp": 1622017521724,
     "user": {
      "displayName": "BRITNEY ZHAO",
      "photoUrl": "",
      "userId": "17497345006570229442"
     },
     "user_tz": 420
    },
    "id": "10a3fb2d",
    "outputId": "8d9f45f3-eab8-4be9-b673-001446f85086"
   },
   "outputs": [
    {
     "data": {
      "text/html": [
       "<div>\n",
       "<style scoped>\n",
       "    .dataframe tbody tr th:only-of-type {\n",
       "        vertical-align: middle;\n",
       "    }\n",
       "\n",
       "    .dataframe tbody tr th {\n",
       "        vertical-align: top;\n",
       "    }\n",
       "\n",
       "    .dataframe thead th {\n",
       "        text-align: right;\n",
       "    }\n",
       "</style>\n",
       "<table border=\"1\" class=\"dataframe\">\n",
       "  <thead>\n",
       "    <tr style=\"text-align: right;\">\n",
       "      <th></th>\n",
       "      <th>name</th>\n",
       "      <th>size</th>\n",
       "      <th>lowShedding</th>\n",
       "      <th>easyToGroom</th>\n",
       "      <th>goodHealth</th>\n",
       "      <th>lowBarking</th>\n",
       "      <th>easyToTrain</th>\n",
       "    </tr>\n",
       "  </thead>\n",
       "  <tbody>\n",
       "    <tr>\n",
       "      <th>0</th>\n",
       "      <td>Affenpinscher</td>\n",
       "      <td>1</td>\n",
       "      <td>5</td>\n",
       "      <td>3</td>\n",
       "      <td>4</td>\n",
       "      <td>4.0</td>\n",
       "      <td>2</td>\n",
       "    </tr>\n",
       "    <tr>\n",
       "      <th>1</th>\n",
       "      <td>Afghan Hound</td>\n",
       "      <td>4</td>\n",
       "      <td>2</td>\n",
       "      <td>1</td>\n",
       "      <td>3</td>\n",
       "      <td>4.0</td>\n",
       "      <td>1</td>\n",
       "    </tr>\n",
       "    <tr>\n",
       "      <th>2</th>\n",
       "      <td>Airedale Terrier</td>\n",
       "      <td>3</td>\n",
       "      <td>4</td>\n",
       "      <td>2</td>\n",
       "      <td>3</td>\n",
       "      <td>2.0</td>\n",
       "      <td>4</td>\n",
       "    </tr>\n",
       "    <tr>\n",
       "      <th>3</th>\n",
       "      <td>Akita</td>\n",
       "      <td>4</td>\n",
       "      <td>1</td>\n",
       "      <td>1</td>\n",
       "      <td>4</td>\n",
       "      <td>1.0</td>\n",
       "      <td>2</td>\n",
       "    </tr>\n",
       "    <tr>\n",
       "      <th>4</th>\n",
       "      <td>Alaskan Malamute</td>\n",
       "      <td>4</td>\n",
       "      <td>1</td>\n",
       "      <td>1</td>\n",
       "      <td>4</td>\n",
       "      <td>1.0</td>\n",
       "      <td>4</td>\n",
       "    </tr>\n",
       "    <tr>\n",
       "      <th>...</th>\n",
       "      <td>...</td>\n",
       "      <td>...</td>\n",
       "      <td>...</td>\n",
       "      <td>...</td>\n",
       "      <td>...</td>\n",
       "      <td>...</td>\n",
       "      <td>...</td>\n",
       "    </tr>\n",
       "    <tr>\n",
       "      <th>194</th>\n",
       "      <td>Whippet</td>\n",
       "      <td>3</td>\n",
       "      <td>4</td>\n",
       "      <td>5</td>\n",
       "      <td>4</td>\n",
       "      <td>5.0</td>\n",
       "      <td>4</td>\n",
       "    </tr>\n",
       "    <tr>\n",
       "      <th>195</th>\n",
       "      <td>Wirehaired Pointing Griffon</td>\n",
       "      <td>3</td>\n",
       "      <td>5</td>\n",
       "      <td>3</td>\n",
       "      <td>4</td>\n",
       "      <td>2.0</td>\n",
       "      <td>5</td>\n",
       "    </tr>\n",
       "    <tr>\n",
       "      <th>196</th>\n",
       "      <td>Xoloitzcuintli</td>\n",
       "      <td>3</td>\n",
       "      <td>1</td>\n",
       "      <td>5</td>\n",
       "      <td>5</td>\n",
       "      <td>1.0</td>\n",
       "      <td>3</td>\n",
       "    </tr>\n",
       "    <tr>\n",
       "      <th>197</th>\n",
       "      <td>Yorkipoo</td>\n",
       "      <td>1</td>\n",
       "      <td>5</td>\n",
       "      <td>4</td>\n",
       "      <td>3</td>\n",
       "      <td>1.0</td>\n",
       "      <td>4</td>\n",
       "    </tr>\n",
       "    <tr>\n",
       "      <th>198</th>\n",
       "      <td>Yorkshire Terrier</td>\n",
       "      <td>1</td>\n",
       "      <td>4</td>\n",
       "      <td>1</td>\n",
       "      <td>4</td>\n",
       "      <td>3.0</td>\n",
       "      <td>3</td>\n",
       "    </tr>\n",
       "  </tbody>\n",
       "</table>\n",
       "<p>199 rows × 7 columns</p>\n",
       "</div>"
      ],
      "text/plain": [
       "                            name  size  lowShedding  easyToGroom  goodHealth  \\\n",
       "0                  Affenpinscher     1            5            3           4   \n",
       "1                   Afghan Hound     4            2            1           3   \n",
       "2               Airedale Terrier     3            4            2           3   \n",
       "3                          Akita     4            1            1           4   \n",
       "4               Alaskan Malamute     4            1            1           4   \n",
       "..                           ...   ...          ...          ...         ...   \n",
       "194                      Whippet     3            4            5           4   \n",
       "195  Wirehaired Pointing Griffon     3            5            3           4   \n",
       "196               Xoloitzcuintli     3            1            5           5   \n",
       "197                     Yorkipoo     1            5            4           3   \n",
       "198            Yorkshire Terrier     1            4            1           4   \n",
       "\n",
       "     lowBarking  easyToTrain  \n",
       "0           4.0            2  \n",
       "1           4.0            1  \n",
       "2           2.0            4  \n",
       "3           1.0            2  \n",
       "4           1.0            4  \n",
       "..          ...          ...  \n",
       "194         5.0            4  \n",
       "195         2.0            5  \n",
       "196         1.0            3  \n",
       "197         1.0            4  \n",
       "198         3.0            3  \n",
       "\n",
       "[199 rows x 7 columns]"
      ]
     },
     "execution_count": 7,
     "metadata": {},
     "output_type": "execute_result"
    }
   ],
   "source": [
    "df"
   ]
  },
  {
   "cell_type": "code",
   "execution_count": 8,
   "id": "98e4de40",
   "metadata": {
    "executionInfo": {
     "elapsed": 130,
     "status": "ok",
     "timestamp": 1622017524452,
     "user": {
      "displayName": "BRITNEY ZHAO",
      "photoUrl": "",
      "userId": "17497345006570229442"
     },
     "user_tz": 420
    },
    "id": "98e4de40"
   },
   "outputs": [],
   "source": [
    "# create new vector column for dogs' attributes\n",
    "df['list'] = df[['size', 'lowShedding', 'easyToGroom',\n",
    "                'goodHealth', 'lowBarking', 'easyToTrain']].values.tolist()"
   ]
  },
  {
   "cell_type": "code",
   "execution_count": 9,
   "id": "318243ee",
   "metadata": {
    "colab": {
     "base_uri": "https://localhost:8080/",
     "height": 424
    },
    "executionInfo": {
     "elapsed": 7,
     "status": "ok",
     "timestamp": 1622017525813,
     "user": {
      "displayName": "BRITNEY ZHAO",
      "photoUrl": "",
      "userId": "17497345006570229442"
     },
     "user_tz": 420
    },
    "id": "318243ee",
    "outputId": "459be024-8737-4874-a5aa-aaa2cf35ee96"
   },
   "outputs": [
    {
     "data": {
      "text/html": [
       "<div>\n",
       "<style scoped>\n",
       "    .dataframe tbody tr th:only-of-type {\n",
       "        vertical-align: middle;\n",
       "    }\n",
       "\n",
       "    .dataframe tbody tr th {\n",
       "        vertical-align: top;\n",
       "    }\n",
       "\n",
       "    .dataframe thead th {\n",
       "        text-align: right;\n",
       "    }\n",
       "</style>\n",
       "<table border=\"1\" class=\"dataframe\">\n",
       "  <thead>\n",
       "    <tr style=\"text-align: right;\">\n",
       "      <th></th>\n",
       "      <th>name</th>\n",
       "      <th>size</th>\n",
       "      <th>lowShedding</th>\n",
       "      <th>easyToGroom</th>\n",
       "      <th>goodHealth</th>\n",
       "      <th>lowBarking</th>\n",
       "      <th>easyToTrain</th>\n",
       "      <th>list</th>\n",
       "    </tr>\n",
       "  </thead>\n",
       "  <tbody>\n",
       "    <tr>\n",
       "      <th>0</th>\n",
       "      <td>Affenpinscher</td>\n",
       "      <td>1</td>\n",
       "      <td>5</td>\n",
       "      <td>3</td>\n",
       "      <td>4</td>\n",
       "      <td>4.0</td>\n",
       "      <td>2</td>\n",
       "      <td>[1.0, 5.0, 3.0, 4.0, 4.0, 2.0]</td>\n",
       "    </tr>\n",
       "    <tr>\n",
       "      <th>1</th>\n",
       "      <td>Afghan Hound</td>\n",
       "      <td>4</td>\n",
       "      <td>2</td>\n",
       "      <td>1</td>\n",
       "      <td>3</td>\n",
       "      <td>4.0</td>\n",
       "      <td>1</td>\n",
       "      <td>[4.0, 2.0, 1.0, 3.0, 4.0, 1.0]</td>\n",
       "    </tr>\n",
       "    <tr>\n",
       "      <th>2</th>\n",
       "      <td>Airedale Terrier</td>\n",
       "      <td>3</td>\n",
       "      <td>4</td>\n",
       "      <td>2</td>\n",
       "      <td>3</td>\n",
       "      <td>2.0</td>\n",
       "      <td>4</td>\n",
       "      <td>[3.0, 4.0, 2.0, 3.0, 2.0, 4.0]</td>\n",
       "    </tr>\n",
       "    <tr>\n",
       "      <th>3</th>\n",
       "      <td>Akita</td>\n",
       "      <td>4</td>\n",
       "      <td>1</td>\n",
       "      <td>1</td>\n",
       "      <td>4</td>\n",
       "      <td>1.0</td>\n",
       "      <td>2</td>\n",
       "      <td>[4.0, 1.0, 1.0, 4.0, 1.0, 2.0]</td>\n",
       "    </tr>\n",
       "    <tr>\n",
       "      <th>4</th>\n",
       "      <td>Alaskan Malamute</td>\n",
       "      <td>4</td>\n",
       "      <td>1</td>\n",
       "      <td>1</td>\n",
       "      <td>4</td>\n",
       "      <td>1.0</td>\n",
       "      <td>4</td>\n",
       "      <td>[4.0, 1.0, 1.0, 4.0, 1.0, 4.0]</td>\n",
       "    </tr>\n",
       "    <tr>\n",
       "      <th>...</th>\n",
       "      <td>...</td>\n",
       "      <td>...</td>\n",
       "      <td>...</td>\n",
       "      <td>...</td>\n",
       "      <td>...</td>\n",
       "      <td>...</td>\n",
       "      <td>...</td>\n",
       "      <td>...</td>\n",
       "    </tr>\n",
       "    <tr>\n",
       "      <th>194</th>\n",
       "      <td>Whippet</td>\n",
       "      <td>3</td>\n",
       "      <td>4</td>\n",
       "      <td>5</td>\n",
       "      <td>4</td>\n",
       "      <td>5.0</td>\n",
       "      <td>4</td>\n",
       "      <td>[3.0, 4.0, 5.0, 4.0, 5.0, 4.0]</td>\n",
       "    </tr>\n",
       "    <tr>\n",
       "      <th>195</th>\n",
       "      <td>Wirehaired Pointing Griffon</td>\n",
       "      <td>3</td>\n",
       "      <td>5</td>\n",
       "      <td>3</td>\n",
       "      <td>4</td>\n",
       "      <td>2.0</td>\n",
       "      <td>5</td>\n",
       "      <td>[3.0, 5.0, 3.0, 4.0, 2.0, 5.0]</td>\n",
       "    </tr>\n",
       "    <tr>\n",
       "      <th>196</th>\n",
       "      <td>Xoloitzcuintli</td>\n",
       "      <td>3</td>\n",
       "      <td>1</td>\n",
       "      <td>5</td>\n",
       "      <td>5</td>\n",
       "      <td>1.0</td>\n",
       "      <td>3</td>\n",
       "      <td>[3.0, 1.0, 5.0, 5.0, 1.0, 3.0]</td>\n",
       "    </tr>\n",
       "    <tr>\n",
       "      <th>197</th>\n",
       "      <td>Yorkipoo</td>\n",
       "      <td>1</td>\n",
       "      <td>5</td>\n",
       "      <td>4</td>\n",
       "      <td>3</td>\n",
       "      <td>1.0</td>\n",
       "      <td>4</td>\n",
       "      <td>[1.0, 5.0, 4.0, 3.0, 1.0, 4.0]</td>\n",
       "    </tr>\n",
       "    <tr>\n",
       "      <th>198</th>\n",
       "      <td>Yorkshire Terrier</td>\n",
       "      <td>1</td>\n",
       "      <td>4</td>\n",
       "      <td>1</td>\n",
       "      <td>4</td>\n",
       "      <td>3.0</td>\n",
       "      <td>3</td>\n",
       "      <td>[1.0, 4.0, 1.0, 4.0, 3.0, 3.0]</td>\n",
       "    </tr>\n",
       "  </tbody>\n",
       "</table>\n",
       "<p>199 rows × 8 columns</p>\n",
       "</div>"
      ],
      "text/plain": [
       "                            name  size  lowShedding  easyToGroom  goodHealth  \\\n",
       "0                  Affenpinscher     1            5            3           4   \n",
       "1                   Afghan Hound     4            2            1           3   \n",
       "2               Airedale Terrier     3            4            2           3   \n",
       "3                          Akita     4            1            1           4   \n",
       "4               Alaskan Malamute     4            1            1           4   \n",
       "..                           ...   ...          ...          ...         ...   \n",
       "194                      Whippet     3            4            5           4   \n",
       "195  Wirehaired Pointing Griffon     3            5            3           4   \n",
       "196               Xoloitzcuintli     3            1            5           5   \n",
       "197                     Yorkipoo     1            5            4           3   \n",
       "198            Yorkshire Terrier     1            4            1           4   \n",
       "\n",
       "     lowBarking  easyToTrain                            list  \n",
       "0           4.0            2  [1.0, 5.0, 3.0, 4.0, 4.0, 2.0]  \n",
       "1           4.0            1  [4.0, 2.0, 1.0, 3.0, 4.0, 1.0]  \n",
       "2           2.0            4  [3.0, 4.0, 2.0, 3.0, 2.0, 4.0]  \n",
       "3           1.0            2  [4.0, 1.0, 1.0, 4.0, 1.0, 2.0]  \n",
       "4           1.0            4  [4.0, 1.0, 1.0, 4.0, 1.0, 4.0]  \n",
       "..          ...          ...                             ...  \n",
       "194         5.0            4  [3.0, 4.0, 5.0, 4.0, 5.0, 4.0]  \n",
       "195         2.0            5  [3.0, 5.0, 3.0, 4.0, 2.0, 5.0]  \n",
       "196         1.0            3  [3.0, 1.0, 5.0, 5.0, 1.0, 3.0]  \n",
       "197         1.0            4  [1.0, 5.0, 4.0, 3.0, 1.0, 4.0]  \n",
       "198         3.0            3  [1.0, 4.0, 1.0, 4.0, 3.0, 3.0]  \n",
       "\n",
       "[199 rows x 8 columns]"
      ]
     },
     "execution_count": 9,
     "metadata": {},
     "output_type": "execute_result"
    }
   ],
   "source": [
    "df"
   ]
  },
  {
   "cell_type": "code",
   "execution_count": 10,
   "id": "GEiCX-a1s7b0",
   "metadata": {
    "executionInfo": {
     "elapsed": 175,
     "status": "ok",
     "timestamp": 1622017942799,
     "user": {
      "displayName": "BRITNEY ZHAO",
      "photoUrl": "",
      "userId": "17497345006570229442"
     },
     "user_tz": 420
    },
    "id": "GEiCX-a1s7b0"
   },
   "outputs": [],
   "source": [
    "from scipy import spatial\n",
    "\n",
    "#create list of the behavior attributes lists\n",
    "breeds = df['list'].tolist()\n",
    "#create KDTree based on these breeds\n",
    "tree = spatial.KDTree(breeds)\n"
   ]
  },
  {
   "cell_type": "code",
   "execution_count": 11,
   "id": "NzXImdvdU0Dt",
   "metadata": {
    "executionInfo": {
     "elapsed": 3,
     "status": "ok",
     "timestamp": 1622017943190,
     "user": {
      "displayName": "BRITNEY ZHAO",
      "photoUrl": "",
      "userId": "17497345006570229442"
     },
     "user_tz": 420
    },
    "id": "NzXImdvdU0Dt"
   },
   "outputs": [],
   "source": [
    "#recommend breed that is the \"nearest neighbor\" to input\n",
    "def breedrec(l):\n",
    "    #calculate nearest neighbor to l\n",
    "    dog = breeds[tree.query(l)[1]]\n",
    "\n",
    "    #find the index of this vector of attributes\n",
    "    index = breeds.index(dog)\n",
    "    #get breed name based on index\n",
    "    name = df.iloc[index, 0]\n",
    "    return name"
   ]
  },
  {
   "cell_type": "code",
   "execution_count": 12,
   "id": "uFiOqsEwksdP",
   "metadata": {
    "executionInfo": {
     "elapsed": 608,
     "status": "ok",
     "timestamp": 1622017976165,
     "user": {
      "displayName": "BRITNEY ZHAO",
      "photoUrl": "",
      "userId": "17497345006570229442"
     },
     "user_tz": 420
    },
    "id": "uFiOqsEwksdP"
   },
   "outputs": [],
   "source": [
    "#recommend the top three breeds that are the \"nearest neighbor\" to input\n",
    "def top3rec(l):\n",
    "    #find the indices of the 3 closest vectors to l\n",
    "    closest_indices = tree.query(l, k = 3)[1]\n",
    "\n",
    "    #get the vectors of attributes of these 3 indices\n",
    "    dogs_behav = [breeds[i] for i in closest_indices]\n",
    "\n",
    "    #find the indices containing these attribute vectors\n",
    "    indices = [breeds.index(dog) for dog in dogs_behav]\n",
    "    #get the breed names based on index\n",
    "    name = [df.iloc[index,0] for index in indices]\n",
    "    return name"
   ]
  },
  {
   "cell_type": "code",
   "execution_count": 13,
   "id": "712c2740",
   "metadata": {
    "colab": {
     "base_uri": "https://localhost:8080/",
     "height": 36
    },
    "executionInfo": {
     "elapsed": 7,
     "status": "ok",
     "timestamp": 1622017944731,
     "user": {
      "displayName": "BRITNEY ZHAO",
      "photoUrl": "",
      "userId": "17497345006570229442"
     },
     "user_tz": 420
    },
    "id": "712c2740",
    "outputId": "0796ab29-7ef2-4844-de4b-c6166c384094"
   },
   "outputs": [
    {
     "data": {
      "text/plain": [
       "'Akita'"
      ]
     },
     "execution_count": 13,
     "metadata": {},
     "output_type": "execute_result"
    }
   ],
   "source": [
    "akita = [4.0, 1.0, 1.0, 4.0, 1.0, 2.0]\n",
    "\n",
    "breedrec(akita)"
   ]
  },
  {
   "cell_type": "code",
   "execution_count": 14,
   "id": "94abd83c",
   "metadata": {
    "colab": {
     "base_uri": "https://localhost:8080/",
     "height": 36
    },
    "executionInfo": {
     "elapsed": 423,
     "status": "ok",
     "timestamp": 1622017947911,
     "user": {
      "displayName": "BRITNEY ZHAO",
      "photoUrl": "",
      "userId": "17497345006570229442"
     },
     "user_tz": 420
    },
    "id": "94abd83c",
    "outputId": "d40a2292-918f-4adb-f99e-45bf58d0f150"
   },
   "outputs": [
    {
     "data": {
      "text/plain": [
       "'Cardigan Welsh Corgi'"
      ]
     },
     "execution_count": 14,
     "metadata": {},
     "output_type": "execute_result"
    }
   ],
   "source": [
    "test = [1, 2, 3, 4, 5, 4]\n",
    "breedrec(test)"
   ]
  },
  {
   "cell_type": "code",
   "execution_count": 15,
   "id": "ojHj1J1AecaQ",
   "metadata": {
    "colab": {
     "base_uri": "https://localhost:8080/"
    },
    "executionInfo": {
     "elapsed": 188,
     "status": "ok",
     "timestamp": 1622017953633,
     "user": {
      "displayName": "BRITNEY ZHAO",
      "photoUrl": "",
      "userId": "17497345006570229442"
     },
     "user_tz": 420
    },
    "id": "ojHj1J1AecaQ",
    "outputId": "fe0df12e-df99-406f-ccf3-587dd3774b29"
   },
   "outputs": [
    {
     "data": {
      "text/plain": [
       "(['Petit Basset Griffon Vendeen', 'Pekingese', 'Dachshund'],\n",
       " ['Belgian Malinois', 'Swedish Vallhund', 'Saluki'])"
      ]
     },
     "execution_count": 15,
     "metadata": {},
     "output_type": "execute_result"
    }
   ],
   "source": [
    "test2 = [1,1,1,1,1,1]\n",
    "test3 = [5,5,5,5,5,5]\n",
    "top3rec(test2), top3rec(test3)"
   ]
  },
  {
   "cell_type": "code",
   "execution_count": 16,
   "id": "2d488592",
   "metadata": {
    "colab": {
     "base_uri": "https://localhost:8080/"
    },
    "executionInfo": {
     "elapsed": 377,
     "status": "ok",
     "timestamp": 1622017979853,
     "user": {
      "displayName": "BRITNEY ZHAO",
      "photoUrl": "",
      "userId": "17497345006570229442"
     },
     "user_tz": 420
    },
    "id": "2d488592",
    "outputId": "885fc585-bfdb-479a-aa2c-3b89047feae0"
   },
   "outputs": [
    {
     "data": {
      "text/plain": [
       "['Akita', 'Korean Jindo Dog', 'Bloodhound']"
      ]
     },
     "execution_count": 16,
     "metadata": {},
     "output_type": "execute_result"
    }
   ],
   "source": [
    "top3rec(akita)"
   ]
  },
  {
   "cell_type": "code",
   "execution_count": 17,
   "id": "8e49a734",
   "metadata": {
    "colab": {
     "base_uri": "https://localhost:8080/"
    },
    "executionInfo": {
     "elapsed": 156,
     "status": "ok",
     "timestamp": 1622017983563,
     "user": {
      "displayName": "BRITNEY ZHAO",
      "photoUrl": "",
      "userId": "17497345006570229442"
     },
     "user_tz": 420
    },
    "id": "8e49a734",
    "outputId": "34acace3-2bf6-4754-b756-ee8acd1ba2f0"
   },
   "outputs": [
    {
     "data": {
      "text/plain": [
       "['Cardigan Welsh Corgi', 'Shetland Sheepdog', 'Border Terrier']"
      ]
     },
     "execution_count": 17,
     "metadata": {},
     "output_type": "execute_result"
    }
   ],
   "source": [
    "top3rec(test)"
   ]
  }
 ],
 "metadata": {
  "colab": {
   "name": "dogrec_new.ipynb",
   "provenance": []
  },
  "kernelspec": {
   "display_name": "Python [conda env:PIC16B] *",
   "language": "python",
   "name": "conda-env-PIC16B-py"
  },
  "language_info": {
   "codemirror_mode": {
    "name": "ipython",
    "version": 3
   },
   "file_extension": ".py",
   "mimetype": "text/x-python",
   "name": "python",
   "nbconvert_exporter": "python",
   "pygments_lexer": "ipython3",
   "version": "3.7.10"
  }
 },
 "nbformat": 4,
 "nbformat_minor": 5
}
